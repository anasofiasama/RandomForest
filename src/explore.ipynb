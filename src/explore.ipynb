{
    "cells": [
        {
            "cell_type": "markdown",
            "metadata": {},
            "source": [
                "# Predicción de sobrevivir en el Titanic"
            ]
        },
        {
            "cell_type": "code",
            "execution_count": 77,
            "metadata": {},
            "outputs": [],
            "source": [
                "import pandas as pd\n",
                "import numpy as np\n",
                "import matplotlib.pyplot as plt\n"
            ]
        },
        {
            "cell_type": "code",
            "execution_count": 34,
            "metadata": {},
            "outputs": [],
            "source": [
                "url='https://raw.githubusercontent.com/4GeeksAcademy/random-forest-project-tutorial/main/titanic_train.csv'\n",
                "df = pd.read_csv(url, index_col=[0,3])"
            ]
        },
        {
            "cell_type": "code",
            "execution_count": 35,
            "metadata": {},
            "outputs": [
                {
                    "name": "stdout",
                    "output_type": "stream",
                    "text": [
                        "<class 'pandas.core.frame.DataFrame'>\n",
                        "MultiIndex: 891 entries, (1, 'Braund, Mr. Owen Harris') to (891, 'Dooley, Mr. Patrick')\n",
                        "Data columns (total 10 columns):\n",
                        " #   Column    Non-Null Count  Dtype  \n",
                        "---  ------    --------------  -----  \n",
                        " 0   Survived  891 non-null    int64  \n",
                        " 1   Pclass    891 non-null    int64  \n",
                        " 2   Sex       891 non-null    object \n",
                        " 3   Age       714 non-null    float64\n",
                        " 4   SibSp     891 non-null    int64  \n",
                        " 5   Parch     891 non-null    int64  \n",
                        " 6   Ticket    891 non-null    object \n",
                        " 7   Fare      891 non-null    float64\n",
                        " 8   Cabin     204 non-null    object \n",
                        " 9   Embarked  889 non-null    object \n",
                        "dtypes: float64(2), int64(4), object(4)\n",
                        "memory usage: 151.7+ KB\n"
                    ]
                }
            ],
            "source": [
                "df.info()"
            ]
        },
        {
            "cell_type": "code",
            "execution_count": 36,
            "metadata": {},
            "outputs": [
                {
                    "data": {
                        "text/html": [
                            "<div>\n",
                            "<style scoped>\n",
                            "    .dataframe tbody tr th:only-of-type {\n",
                            "        vertical-align: middle;\n",
                            "    }\n",
                            "\n",
                            "    .dataframe tbody tr th {\n",
                            "        vertical-align: top;\n",
                            "    }\n",
                            "\n",
                            "    .dataframe thead th {\n",
                            "        text-align: right;\n",
                            "    }\n",
                            "</style>\n",
                            "<table border=\"1\" class=\"dataframe\">\n",
                            "  <thead>\n",
                            "    <tr style=\"text-align: right;\">\n",
                            "      <th></th>\n",
                            "      <th>Survived</th>\n",
                            "      <th>Pclass</th>\n",
                            "      <th>Age</th>\n",
                            "      <th>SibSp</th>\n",
                            "      <th>Parch</th>\n",
                            "      <th>Fare</th>\n",
                            "    </tr>\n",
                            "  </thead>\n",
                            "  <tbody>\n",
                            "    <tr>\n",
                            "      <th>count</th>\n",
                            "      <td>891.000000</td>\n",
                            "      <td>891.000000</td>\n",
                            "      <td>714.000000</td>\n",
                            "      <td>891.000000</td>\n",
                            "      <td>891.000000</td>\n",
                            "      <td>891.000000</td>\n",
                            "    </tr>\n",
                            "    <tr>\n",
                            "      <th>mean</th>\n",
                            "      <td>0.383838</td>\n",
                            "      <td>2.308642</td>\n",
                            "      <td>29.699118</td>\n",
                            "      <td>0.523008</td>\n",
                            "      <td>0.381594</td>\n",
                            "      <td>32.204208</td>\n",
                            "    </tr>\n",
                            "    <tr>\n",
                            "      <th>std</th>\n",
                            "      <td>0.486592</td>\n",
                            "      <td>0.836071</td>\n",
                            "      <td>14.526497</td>\n",
                            "      <td>1.102743</td>\n",
                            "      <td>0.806057</td>\n",
                            "      <td>49.693429</td>\n",
                            "    </tr>\n",
                            "    <tr>\n",
                            "      <th>min</th>\n",
                            "      <td>0.000000</td>\n",
                            "      <td>1.000000</td>\n",
                            "      <td>0.420000</td>\n",
                            "      <td>0.000000</td>\n",
                            "      <td>0.000000</td>\n",
                            "      <td>0.000000</td>\n",
                            "    </tr>\n",
                            "    <tr>\n",
                            "      <th>25%</th>\n",
                            "      <td>0.000000</td>\n",
                            "      <td>2.000000</td>\n",
                            "      <td>20.125000</td>\n",
                            "      <td>0.000000</td>\n",
                            "      <td>0.000000</td>\n",
                            "      <td>7.910400</td>\n",
                            "    </tr>\n",
                            "    <tr>\n",
                            "      <th>50%</th>\n",
                            "      <td>0.000000</td>\n",
                            "      <td>3.000000</td>\n",
                            "      <td>28.000000</td>\n",
                            "      <td>0.000000</td>\n",
                            "      <td>0.000000</td>\n",
                            "      <td>14.454200</td>\n",
                            "    </tr>\n",
                            "    <tr>\n",
                            "      <th>75%</th>\n",
                            "      <td>1.000000</td>\n",
                            "      <td>3.000000</td>\n",
                            "      <td>38.000000</td>\n",
                            "      <td>1.000000</td>\n",
                            "      <td>0.000000</td>\n",
                            "      <td>31.000000</td>\n",
                            "    </tr>\n",
                            "    <tr>\n",
                            "      <th>max</th>\n",
                            "      <td>1.000000</td>\n",
                            "      <td>3.000000</td>\n",
                            "      <td>80.000000</td>\n",
                            "      <td>8.000000</td>\n",
                            "      <td>6.000000</td>\n",
                            "      <td>512.329200</td>\n",
                            "    </tr>\n",
                            "  </tbody>\n",
                            "</table>\n",
                            "</div>"
                        ],
                        "text/plain": [
                            "         Survived      Pclass         Age       SibSp       Parch        Fare\n",
                            "count  891.000000  891.000000  714.000000  891.000000  891.000000  891.000000\n",
                            "mean     0.383838    2.308642   29.699118    0.523008    0.381594   32.204208\n",
                            "std      0.486592    0.836071   14.526497    1.102743    0.806057   49.693429\n",
                            "min      0.000000    1.000000    0.420000    0.000000    0.000000    0.000000\n",
                            "25%      0.000000    2.000000   20.125000    0.000000    0.000000    7.910400\n",
                            "50%      0.000000    3.000000   28.000000    0.000000    0.000000   14.454200\n",
                            "75%      1.000000    3.000000   38.000000    1.000000    0.000000   31.000000\n",
                            "max      1.000000    3.000000   80.000000    8.000000    6.000000  512.329200"
                        ]
                    },
                    "execution_count": 36,
                    "metadata": {},
                    "output_type": "execute_result"
                }
            ],
            "source": [
                "df.describe()"
            ]
        },
        {
            "cell_type": "code",
            "execution_count": 37,
            "metadata": {},
            "outputs": [
                {
                    "data": {
                        "text/html": [
                            "<div>\n",
                            "<style scoped>\n",
                            "    .dataframe tbody tr th:only-of-type {\n",
                            "        vertical-align: middle;\n",
                            "    }\n",
                            "\n",
                            "    .dataframe tbody tr th {\n",
                            "        vertical-align: top;\n",
                            "    }\n",
                            "\n",
                            "    .dataframe thead th {\n",
                            "        text-align: right;\n",
                            "    }\n",
                            "</style>\n",
                            "<table border=\"1\" class=\"dataframe\">\n",
                            "  <thead>\n",
                            "    <tr style=\"text-align: right;\">\n",
                            "      <th></th>\n",
                            "      <th>Sex</th>\n",
                            "      <th>Ticket</th>\n",
                            "      <th>Cabin</th>\n",
                            "      <th>Embarked</th>\n",
                            "    </tr>\n",
                            "  </thead>\n",
                            "  <tbody>\n",
                            "    <tr>\n",
                            "      <th>count</th>\n",
                            "      <td>891</td>\n",
                            "      <td>891</td>\n",
                            "      <td>204</td>\n",
                            "      <td>889</td>\n",
                            "    </tr>\n",
                            "    <tr>\n",
                            "      <th>unique</th>\n",
                            "      <td>2</td>\n",
                            "      <td>681</td>\n",
                            "      <td>147</td>\n",
                            "      <td>3</td>\n",
                            "    </tr>\n",
                            "    <tr>\n",
                            "      <th>top</th>\n",
                            "      <td>male</td>\n",
                            "      <td>347082</td>\n",
                            "      <td>B96 B98</td>\n",
                            "      <td>S</td>\n",
                            "    </tr>\n",
                            "    <tr>\n",
                            "      <th>freq</th>\n",
                            "      <td>577</td>\n",
                            "      <td>7</td>\n",
                            "      <td>4</td>\n",
                            "      <td>644</td>\n",
                            "    </tr>\n",
                            "  </tbody>\n",
                            "</table>\n",
                            "</div>"
                        ],
                        "text/plain": [
                            "         Sex  Ticket    Cabin Embarked\n",
                            "count    891     891      204      889\n",
                            "unique     2     681      147        3\n",
                            "top     male  347082  B96 B98        S\n",
                            "freq     577       7        4      644"
                        ]
                    },
                    "execution_count": 37,
                    "metadata": {},
                    "output_type": "execute_result"
                }
            ],
            "source": [
                "df.describe(include='object')"
            ]
        },
        {
            "cell_type": "code",
            "execution_count": 38,
            "metadata": {},
            "outputs": [
                {
                    "data": {
                        "text/html": [
                            "<div>\n",
                            "<style scoped>\n",
                            "    .dataframe tbody tr th:only-of-type {\n",
                            "        vertical-align: middle;\n",
                            "    }\n",
                            "\n",
                            "    .dataframe tbody tr th {\n",
                            "        vertical-align: top;\n",
                            "    }\n",
                            "\n",
                            "    .dataframe thead th {\n",
                            "        text-align: right;\n",
                            "    }\n",
                            "</style>\n",
                            "<table border=\"1\" class=\"dataframe\">\n",
                            "  <thead>\n",
                            "    <tr style=\"text-align: right;\">\n",
                            "      <th></th>\n",
                            "      <th></th>\n",
                            "      <th>Survived</th>\n",
                            "      <th>Pclass</th>\n",
                            "      <th>Sex</th>\n",
                            "      <th>Age</th>\n",
                            "      <th>SibSp</th>\n",
                            "      <th>Parch</th>\n",
                            "      <th>Ticket</th>\n",
                            "      <th>Fare</th>\n",
                            "      <th>Cabin</th>\n",
                            "      <th>Embarked</th>\n",
                            "    </tr>\n",
                            "    <tr>\n",
                            "      <th>PassengerId</th>\n",
                            "      <th>Name</th>\n",
                            "      <th></th>\n",
                            "      <th></th>\n",
                            "      <th></th>\n",
                            "      <th></th>\n",
                            "      <th></th>\n",
                            "      <th></th>\n",
                            "      <th></th>\n",
                            "      <th></th>\n",
                            "      <th></th>\n",
                            "      <th></th>\n",
                            "    </tr>\n",
                            "  </thead>\n",
                            "  <tbody>\n",
                            "    <tr>\n",
                            "      <th>631</th>\n",
                            "      <th>Barkworth, Mr. Algernon Henry Wilson</th>\n",
                            "      <td>1</td>\n",
                            "      <td>1</td>\n",
                            "      <td>male</td>\n",
                            "      <td>80.0</td>\n",
                            "      <td>0</td>\n",
                            "      <td>0</td>\n",
                            "      <td>27042</td>\n",
                            "      <td>30.0000</td>\n",
                            "      <td>A23</td>\n",
                            "      <td>S</td>\n",
                            "    </tr>\n",
                            "    <tr>\n",
                            "      <th>391</th>\n",
                            "      <th>Carter, Mr. William Ernest</th>\n",
                            "      <td>1</td>\n",
                            "      <td>1</td>\n",
                            "      <td>male</td>\n",
                            "      <td>36.0</td>\n",
                            "      <td>1</td>\n",
                            "      <td>2</td>\n",
                            "      <td>113760</td>\n",
                            "      <td>120.0000</td>\n",
                            "      <td>B96 B98</td>\n",
                            "      <td>S</td>\n",
                            "    </tr>\n",
                            "    <tr>\n",
                            "      <th>317</th>\n",
                            "      <th>Kantor, Mrs. Sinai (Miriam Sternin)</th>\n",
                            "      <td>1</td>\n",
                            "      <td>2</td>\n",
                            "      <td>female</td>\n",
                            "      <td>24.0</td>\n",
                            "      <td>1</td>\n",
                            "      <td>0</td>\n",
                            "      <td>244367</td>\n",
                            "      <td>26.0000</td>\n",
                            "      <td>NaN</td>\n",
                            "      <td>S</td>\n",
                            "    </tr>\n",
                            "    <tr>\n",
                            "      <th>646</th>\n",
                            "      <th>Harper, Mr. Henry Sleeper</th>\n",
                            "      <td>1</td>\n",
                            "      <td>1</td>\n",
                            "      <td>male</td>\n",
                            "      <td>48.0</td>\n",
                            "      <td>1</td>\n",
                            "      <td>0</td>\n",
                            "      <td>PC 17572</td>\n",
                            "      <td>76.7292</td>\n",
                            "      <td>D33</td>\n",
                            "      <td>C</td>\n",
                            "    </tr>\n",
                            "    <tr>\n",
                            "      <th>143</th>\n",
                            "      <th>Hakkarainen, Mrs. Pekka Pietari (Elin Matilda Dolck)</th>\n",
                            "      <td>1</td>\n",
                            "      <td>3</td>\n",
                            "      <td>female</td>\n",
                            "      <td>24.0</td>\n",
                            "      <td>1</td>\n",
                            "      <td>0</td>\n",
                            "      <td>STON/O2. 3101279</td>\n",
                            "      <td>15.8500</td>\n",
                            "      <td>NaN</td>\n",
                            "      <td>S</td>\n",
                            "    </tr>\n",
                            "    <tr>\n",
                            "      <th>423</th>\n",
                            "      <th>Zimmerman, Mr. Leo</th>\n",
                            "      <td>0</td>\n",
                            "      <td>3</td>\n",
                            "      <td>male</td>\n",
                            "      <td>29.0</td>\n",
                            "      <td>0</td>\n",
                            "      <td>0</td>\n",
                            "      <td>315082</td>\n",
                            "      <td>7.8750</td>\n",
                            "      <td>NaN</td>\n",
                            "      <td>S</td>\n",
                            "    </tr>\n",
                            "    <tr>\n",
                            "      <th>516</th>\n",
                            "      <th>Walker, Mr. William Anderson</th>\n",
                            "      <td>0</td>\n",
                            "      <td>1</td>\n",
                            "      <td>male</td>\n",
                            "      <td>47.0</td>\n",
                            "      <td>0</td>\n",
                            "      <td>0</td>\n",
                            "      <td>36967</td>\n",
                            "      <td>34.0208</td>\n",
                            "      <td>D46</td>\n",
                            "      <td>S</td>\n",
                            "    </tr>\n",
                            "    <tr>\n",
                            "      <th>211</th>\n",
                            "      <th>Ali, Mr. Ahmed</th>\n",
                            "      <td>0</td>\n",
                            "      <td>3</td>\n",
                            "      <td>male</td>\n",
                            "      <td>24.0</td>\n",
                            "      <td>0</td>\n",
                            "      <td>0</td>\n",
                            "      <td>SOTON/O.Q. 3101311</td>\n",
                            "      <td>7.0500</td>\n",
                            "      <td>NaN</td>\n",
                            "      <td>S</td>\n",
                            "    </tr>\n",
                            "    <tr>\n",
                            "      <th>409</th>\n",
                            "      <th>Birkeland, Mr. Hans Martin Monsen</th>\n",
                            "      <td>0</td>\n",
                            "      <td>3</td>\n",
                            "      <td>male</td>\n",
                            "      <td>21.0</td>\n",
                            "      <td>0</td>\n",
                            "      <td>0</td>\n",
                            "      <td>312992</td>\n",
                            "      <td>7.7750</td>\n",
                            "      <td>NaN</td>\n",
                            "      <td>S</td>\n",
                            "    </tr>\n",
                            "    <tr>\n",
                            "      <th>325</th>\n",
                            "      <th>Sage, Mr. George John Jr</th>\n",
                            "      <td>0</td>\n",
                            "      <td>3</td>\n",
                            "      <td>male</td>\n",
                            "      <td>NaN</td>\n",
                            "      <td>8</td>\n",
                            "      <td>2</td>\n",
                            "      <td>CA. 2343</td>\n",
                            "      <td>69.5500</td>\n",
                            "      <td>NaN</td>\n",
                            "      <td>S</td>\n",
                            "    </tr>\n",
                            "  </tbody>\n",
                            "</table>\n",
                            "</div>"
                        ],
                        "text/plain": [
                            "                                                                Survived  \\\n",
                            "PassengerId Name                                                           \n",
                            "631         Barkworth, Mr. Algernon Henry Wilson                       1   \n",
                            "391         Carter, Mr. William Ernest                                 1   \n",
                            "317         Kantor, Mrs. Sinai (Miriam Sternin)                        1   \n",
                            "646         Harper, Mr. Henry Sleeper                                  1   \n",
                            "143         Hakkarainen, Mrs. Pekka Pietari (Elin Matilda D...         1   \n",
                            "423         Zimmerman, Mr. Leo                                         0   \n",
                            "516         Walker, Mr. William Anderson                               0   \n",
                            "211         Ali, Mr. Ahmed                                             0   \n",
                            "409         Birkeland, Mr. Hans Martin Monsen                          0   \n",
                            "325         Sage, Mr. George John Jr                                   0   \n",
                            "\n",
                            "                                                                Pclass  \\\n",
                            "PassengerId Name                                                         \n",
                            "631         Barkworth, Mr. Algernon Henry Wilson                     1   \n",
                            "391         Carter, Mr. William Ernest                               1   \n",
                            "317         Kantor, Mrs. Sinai (Miriam Sternin)                      2   \n",
                            "646         Harper, Mr. Henry Sleeper                                1   \n",
                            "143         Hakkarainen, Mrs. Pekka Pietari (Elin Matilda D...       3   \n",
                            "423         Zimmerman, Mr. Leo                                       3   \n",
                            "516         Walker, Mr. William Anderson                             1   \n",
                            "211         Ali, Mr. Ahmed                                           3   \n",
                            "409         Birkeland, Mr. Hans Martin Monsen                        3   \n",
                            "325         Sage, Mr. George John Jr                                 3   \n",
                            "\n",
                            "                                                                   Sex   Age  \\\n",
                            "PassengerId Name                                                               \n",
                            "631         Barkworth, Mr. Algernon Henry Wilson                  male  80.0   \n",
                            "391         Carter, Mr. William Ernest                            male  36.0   \n",
                            "317         Kantor, Mrs. Sinai (Miriam Sternin)                 female  24.0   \n",
                            "646         Harper, Mr. Henry Sleeper                             male  48.0   \n",
                            "143         Hakkarainen, Mrs. Pekka Pietari (Elin Matilda D...  female  24.0   \n",
                            "423         Zimmerman, Mr. Leo                                    male  29.0   \n",
                            "516         Walker, Mr. William Anderson                          male  47.0   \n",
                            "211         Ali, Mr. Ahmed                                        male  24.0   \n",
                            "409         Birkeland, Mr. Hans Martin Monsen                     male  21.0   \n",
                            "325         Sage, Mr. George John Jr                              male   NaN   \n",
                            "\n",
                            "                                                                SibSp  Parch  \\\n",
                            "PassengerId Name                                                               \n",
                            "631         Barkworth, Mr. Algernon Henry Wilson                    0      0   \n",
                            "391         Carter, Mr. William Ernest                              1      2   \n",
                            "317         Kantor, Mrs. Sinai (Miriam Sternin)                     1      0   \n",
                            "646         Harper, Mr. Henry Sleeper                               1      0   \n",
                            "143         Hakkarainen, Mrs. Pekka Pietari (Elin Matilda D...      1      0   \n",
                            "423         Zimmerman, Mr. Leo                                      0      0   \n",
                            "516         Walker, Mr. William Anderson                            0      0   \n",
                            "211         Ali, Mr. Ahmed                                          0      0   \n",
                            "409         Birkeland, Mr. Hans Martin Monsen                       0      0   \n",
                            "325         Sage, Mr. George John Jr                                8      2   \n",
                            "\n",
                            "                                                                            Ticket  \\\n",
                            "PassengerId Name                                                                     \n",
                            "631         Barkworth, Mr. Algernon Henry Wilson                             27042   \n",
                            "391         Carter, Mr. William Ernest                                      113760   \n",
                            "317         Kantor, Mrs. Sinai (Miriam Sternin)                             244367   \n",
                            "646         Harper, Mr. Henry Sleeper                                     PC 17572   \n",
                            "143         Hakkarainen, Mrs. Pekka Pietari (Elin Matilda D...    STON/O2. 3101279   \n",
                            "423         Zimmerman, Mr. Leo                                              315082   \n",
                            "516         Walker, Mr. William Anderson                                     36967   \n",
                            "211         Ali, Mr. Ahmed                                      SOTON/O.Q. 3101311   \n",
                            "409         Birkeland, Mr. Hans Martin Monsen                               312992   \n",
                            "325         Sage, Mr. George John Jr                                      CA. 2343   \n",
                            "\n",
                            "                                                                    Fare  \\\n",
                            "PassengerId Name                                                           \n",
                            "631         Barkworth, Mr. Algernon Henry Wilson                 30.0000   \n",
                            "391         Carter, Mr. William Ernest                          120.0000   \n",
                            "317         Kantor, Mrs. Sinai (Miriam Sternin)                  26.0000   \n",
                            "646         Harper, Mr. Henry Sleeper                            76.7292   \n",
                            "143         Hakkarainen, Mrs. Pekka Pietari (Elin Matilda D...   15.8500   \n",
                            "423         Zimmerman, Mr. Leo                                    7.8750   \n",
                            "516         Walker, Mr. William Anderson                         34.0208   \n",
                            "211         Ali, Mr. Ahmed                                        7.0500   \n",
                            "409         Birkeland, Mr. Hans Martin Monsen                     7.7750   \n",
                            "325         Sage, Mr. George John Jr                             69.5500   \n",
                            "\n",
                            "                                                                  Cabin  \\\n",
                            "PassengerId Name                                                          \n",
                            "631         Barkworth, Mr. Algernon Henry Wilson                    A23   \n",
                            "391         Carter, Mr. William Ernest                          B96 B98   \n",
                            "317         Kantor, Mrs. Sinai (Miriam Sternin)                     NaN   \n",
                            "646         Harper, Mr. Henry Sleeper                               D33   \n",
                            "143         Hakkarainen, Mrs. Pekka Pietari (Elin Matilda D...      NaN   \n",
                            "423         Zimmerman, Mr. Leo                                      NaN   \n",
                            "516         Walker, Mr. William Anderson                            D46   \n",
                            "211         Ali, Mr. Ahmed                                          NaN   \n",
                            "409         Birkeland, Mr. Hans Martin Monsen                       NaN   \n",
                            "325         Sage, Mr. George John Jr                                NaN   \n",
                            "\n",
                            "                                                               Embarked  \n",
                            "PassengerId Name                                                         \n",
                            "631         Barkworth, Mr. Algernon Henry Wilson                      S  \n",
                            "391         Carter, Mr. William Ernest                                S  \n",
                            "317         Kantor, Mrs. Sinai (Miriam Sternin)                       S  \n",
                            "646         Harper, Mr. Henry Sleeper                                 C  \n",
                            "143         Hakkarainen, Mrs. Pekka Pietari (Elin Matilda D...        S  \n",
                            "423         Zimmerman, Mr. Leo                                        S  \n",
                            "516         Walker, Mr. William Anderson                              S  \n",
                            "211         Ali, Mr. Ahmed                                            S  \n",
                            "409         Birkeland, Mr. Hans Martin Monsen                         S  \n",
                            "325         Sage, Mr. George John Jr                                  S  "
                        ]
                    },
                    "execution_count": 38,
                    "metadata": {},
                    "output_type": "execute_result"
                }
            ],
            "source": [
                "df.sample(10)"
            ]
        },
        {
            "cell_type": "markdown",
            "metadata": {},
            "source": [
                "Del análisis primario de la base de datos se detectan algunos valores faltantes en las variables 'age', 'cabin' y 'embarked'. Dado que la cabina no aporta información relevante para el objetivo del trabajo, se decide eliminarla, sin embargo, en el caso de la edad se imputan los faltantes con la media y en el embarque con la moda."
            ]
        },
        {
            "cell_type": "code",
            "execution_count": 39,
            "metadata": {},
            "outputs": [],
            "source": [
                "df=df.drop(columns='Cabin')"
            ]
        },
        {
            "cell_type": "code",
            "execution_count": 40,
            "metadata": {},
            "outputs": [],
            "source": [
                "df['Age']=df['Age'].fillna(df['Age'].mean())\n",
                "df['Embarked']=df['Embarked'].fillna(df['Embarked'].mode()[0])"
            ]
        },
        {
            "cell_type": "code",
            "execution_count": 41,
            "metadata": {},
            "outputs": [
                {
                    "name": "stdout",
                    "output_type": "stream",
                    "text": [
                        "<class 'pandas.core.frame.DataFrame'>\n",
                        "MultiIndex: 891 entries, (1, 'Braund, Mr. Owen Harris') to (891, 'Dooley, Mr. Patrick')\n",
                        "Data columns (total 9 columns):\n",
                        " #   Column    Non-Null Count  Dtype  \n",
                        "---  ------    --------------  -----  \n",
                        " 0   Survived  891 non-null    int64  \n",
                        " 1   Pclass    891 non-null    int64  \n",
                        " 2   Sex       891 non-null    object \n",
                        " 3   Age       891 non-null    float64\n",
                        " 4   SibSp     891 non-null    int64  \n",
                        " 5   Parch     891 non-null    int64  \n",
                        " 6   Ticket    891 non-null    object \n",
                        " 7   Fare      891 non-null    float64\n",
                        " 8   Embarked  891 non-null    object \n",
                        "dtypes: float64(2), int64(4), object(3)\n",
                        "memory usage: 144.7+ KB\n"
                    ]
                }
            ],
            "source": [
                "df.info()"
            ]
        },
        {
            "cell_type": "markdown",
            "metadata": {},
            "source": [
                "La base de datos obtenida cuenta con 891 observaciones y 9 variables, de las cuales 2 son numéricas, 4 son enteros y 3 son del tipo objeto. Dado que sexo, embarque y sobreviviente son categóricas, se transforman para luego utilizar los métodos propios de éste tipo de variable.."
            ]
        },
        {
            "cell_type": "code",
            "execution_count": 43,
            "metadata": {},
            "outputs": [],
            "source": [
                "df[['Sex','Embarked','Survived']]=df[['Sex','Embarked','Survived']].astype('category')"
            ]
        },
        {
            "cell_type": "markdown",
            "metadata": {},
            "source": [
                "A continuación se define la variable objetivo y las explicativas. En esta etapa se decide no considerar la variable Ticket dado que no aporta información para predecir si un determinado pasajero va a sobrevivir o no."
            ]
        },
        {
            "cell_type": "code",
            "execution_count": 48,
            "metadata": {},
            "outputs": [],
            "source": [
                "y=df['Survived']\n",
                "X=df.drop(columns=['Ticket','Survived']).copy()"
            ]
        },
        {
            "cell_type": "markdown",
            "metadata": {},
            "source": [
                "Se realiza una codificación ordinal de las variables explicativas categóricas."
            ]
        },
        {
            "cell_type": "code",
            "execution_count": 50,
            "metadata": {},
            "outputs": [],
            "source": [
                "X['Sex']=X['Sex'].cat.codes"
            ]
        },
        {
            "cell_type": "code",
            "execution_count": 51,
            "metadata": {},
            "outputs": [],
            "source": [
                "X['Embarked']=X['Embarked'].cat.codes"
            ]
        },
        {
            "cell_type": "code",
            "execution_count": 52,
            "metadata": {},
            "outputs": [
                {
                    "data": {
                        "text/html": [
                            "<div>\n",
                            "<style scoped>\n",
                            "    .dataframe tbody tr th:only-of-type {\n",
                            "        vertical-align: middle;\n",
                            "    }\n",
                            "\n",
                            "    .dataframe tbody tr th {\n",
                            "        vertical-align: top;\n",
                            "    }\n",
                            "\n",
                            "    .dataframe thead th {\n",
                            "        text-align: right;\n",
                            "    }\n",
                            "</style>\n",
                            "<table border=\"1\" class=\"dataframe\">\n",
                            "  <thead>\n",
                            "    <tr style=\"text-align: right;\">\n",
                            "      <th></th>\n",
                            "      <th></th>\n",
                            "      <th>Pclass</th>\n",
                            "      <th>Sex</th>\n",
                            "      <th>Age</th>\n",
                            "      <th>SibSp</th>\n",
                            "      <th>Parch</th>\n",
                            "      <th>Fare</th>\n",
                            "      <th>Embarked</th>\n",
                            "    </tr>\n",
                            "    <tr>\n",
                            "      <th>PassengerId</th>\n",
                            "      <th>Name</th>\n",
                            "      <th></th>\n",
                            "      <th></th>\n",
                            "      <th></th>\n",
                            "      <th></th>\n",
                            "      <th></th>\n",
                            "      <th></th>\n",
                            "      <th></th>\n",
                            "    </tr>\n",
                            "  </thead>\n",
                            "  <tbody>\n",
                            "    <tr>\n",
                            "      <th>1</th>\n",
                            "      <th>Braund, Mr. Owen Harris</th>\n",
                            "      <td>3</td>\n",
                            "      <td>1</td>\n",
                            "      <td>22.0</td>\n",
                            "      <td>1</td>\n",
                            "      <td>0</td>\n",
                            "      <td>7.2500</td>\n",
                            "      <td>2</td>\n",
                            "    </tr>\n",
                            "    <tr>\n",
                            "      <th>2</th>\n",
                            "      <th>Cumings, Mrs. John Bradley (Florence Briggs Thayer)</th>\n",
                            "      <td>1</td>\n",
                            "      <td>0</td>\n",
                            "      <td>38.0</td>\n",
                            "      <td>1</td>\n",
                            "      <td>0</td>\n",
                            "      <td>71.2833</td>\n",
                            "      <td>0</td>\n",
                            "    </tr>\n",
                            "    <tr>\n",
                            "      <th>3</th>\n",
                            "      <th>Heikkinen, Miss. Laina</th>\n",
                            "      <td>3</td>\n",
                            "      <td>0</td>\n",
                            "      <td>26.0</td>\n",
                            "      <td>0</td>\n",
                            "      <td>0</td>\n",
                            "      <td>7.9250</td>\n",
                            "      <td>2</td>\n",
                            "    </tr>\n",
                            "    <tr>\n",
                            "      <th>4</th>\n",
                            "      <th>Futrelle, Mrs. Jacques Heath (Lily May Peel)</th>\n",
                            "      <td>1</td>\n",
                            "      <td>0</td>\n",
                            "      <td>35.0</td>\n",
                            "      <td>1</td>\n",
                            "      <td>0</td>\n",
                            "      <td>53.1000</td>\n",
                            "      <td>2</td>\n",
                            "    </tr>\n",
                            "    <tr>\n",
                            "      <th>5</th>\n",
                            "      <th>Allen, Mr. William Henry</th>\n",
                            "      <td>3</td>\n",
                            "      <td>1</td>\n",
                            "      <td>35.0</td>\n",
                            "      <td>0</td>\n",
                            "      <td>0</td>\n",
                            "      <td>8.0500</td>\n",
                            "      <td>2</td>\n",
                            "    </tr>\n",
                            "  </tbody>\n",
                            "</table>\n",
                            "</div>"
                        ],
                        "text/plain": [
                            "                                                                Pclass  Sex  \\\n",
                            "PassengerId Name                                                              \n",
                            "1           Braund, Mr. Owen Harris                                  3    1   \n",
                            "2           Cumings, Mrs. John Bradley (Florence Briggs Tha...       1    0   \n",
                            "3           Heikkinen, Miss. Laina                                   3    0   \n",
                            "4           Futrelle, Mrs. Jacques Heath (Lily May Peel)             1    0   \n",
                            "5           Allen, Mr. William Henry                                 3    1   \n",
                            "\n",
                            "                                                                 Age  SibSp  \\\n",
                            "PassengerId Name                                                              \n",
                            "1           Braund, Mr. Owen Harris                             22.0      1   \n",
                            "2           Cumings, Mrs. John Bradley (Florence Briggs Tha...  38.0      1   \n",
                            "3           Heikkinen, Miss. Laina                              26.0      0   \n",
                            "4           Futrelle, Mrs. Jacques Heath (Lily May Peel)        35.0      1   \n",
                            "5           Allen, Mr. William Henry                            35.0      0   \n",
                            "\n",
                            "                                                                Parch  \\\n",
                            "PassengerId Name                                                        \n",
                            "1           Braund, Mr. Owen Harris                                 0   \n",
                            "2           Cumings, Mrs. John Bradley (Florence Briggs Tha...      0   \n",
                            "3           Heikkinen, Miss. Laina                                  0   \n",
                            "4           Futrelle, Mrs. Jacques Heath (Lily May Peel)            0   \n",
                            "5           Allen, Mr. William Henry                                0   \n",
                            "\n",
                            "                                                                   Fare  \\\n",
                            "PassengerId Name                                                          \n",
                            "1           Braund, Mr. Owen Harris                              7.2500   \n",
                            "2           Cumings, Mrs. John Bradley (Florence Briggs Tha...  71.2833   \n",
                            "3           Heikkinen, Miss. Laina                               7.9250   \n",
                            "4           Futrelle, Mrs. Jacques Heath (Lily May Peel)        53.1000   \n",
                            "5           Allen, Mr. William Henry                             8.0500   \n",
                            "\n",
                            "                                                                Embarked  \n",
                            "PassengerId Name                                                          \n",
                            "1           Braund, Mr. Owen Harris                                    2  \n",
                            "2           Cumings, Mrs. John Bradley (Florence Briggs Tha...         0  \n",
                            "3           Heikkinen, Miss. Laina                                     2  \n",
                            "4           Futrelle, Mrs. Jacques Heath (Lily May Peel)               2  \n",
                            "5           Allen, Mr. William Henry                                   2  "
                        ]
                    },
                    "execution_count": 52,
                    "metadata": {},
                    "output_type": "execute_result"
                }
            ],
            "source": [
                "X.head()"
            ]
        },
        {
            "cell_type": "code",
            "execution_count": 15,
            "metadata": {},
            "outputs": [],
            "source": [
                "from sklearn.ensemble import RandomForestClassifier\n",
                "from sklearn.model_selection import train_test_split"
            ]
        },
        {
            "cell_type": "code",
            "execution_count": 53,
            "metadata": {},
            "outputs": [],
            "source": [
                "X_train,X_test,y_train,y_test=train_test_split(X,y,random_state=1107)"
            ]
        },
        {
            "cell_type": "markdown",
            "metadata": {},
            "source": [
                "Se analiza si la muestra está desbalanceada con respecto a la variable objetivo para contemplarlo en el modelo."
            ]
        },
        {
            "cell_type": "code",
            "execution_count": 54,
            "metadata": {},
            "outputs": [
                {
                    "data": {
                        "text/plain": [
                            "0    0.616162\n",
                            "1    0.383838\n",
                            "Name: Survived, dtype: float64"
                        ]
                    },
                    "execution_count": 54,
                    "metadata": {},
                    "output_type": "execute_result"
                }
            ],
            "source": [
                "y.value_counts(normalize=True)"
            ]
        },
        {
            "cell_type": "markdown",
            "metadata": {},
            "source": [
                "Se observa que si bien no está perfectamente balanceada, la frecuencia no dista mucho entre clases por lo que en principio no se aplica una penalización entre clases."
            ]
        },
        {
            "cell_type": "code",
            "execution_count": 56,
            "metadata": {},
            "outputs": [],
            "source": [
                "classif=RandomForestClassifier(random_state=1107)"
            ]
        },
        {
            "cell_type": "code",
            "execution_count": 57,
            "metadata": {},
            "outputs": [
                {
                    "data": {
                        "text/html": [
                            "<style>#sk-container-id-3 {color: black;background-color: white;}#sk-container-id-3 pre{padding: 0;}#sk-container-id-3 div.sk-toggleable {background-color: white;}#sk-container-id-3 label.sk-toggleable__label {cursor: pointer;display: block;width: 100%;margin-bottom: 0;padding: 0.3em;box-sizing: border-box;text-align: center;}#sk-container-id-3 label.sk-toggleable__label-arrow:before {content: \"▸\";float: left;margin-right: 0.25em;color: #696969;}#sk-container-id-3 label.sk-toggleable__label-arrow:hover:before {color: black;}#sk-container-id-3 div.sk-estimator:hover label.sk-toggleable__label-arrow:before {color: black;}#sk-container-id-3 div.sk-toggleable__content {max-height: 0;max-width: 0;overflow: hidden;text-align: left;background-color: #f0f8ff;}#sk-container-id-3 div.sk-toggleable__content pre {margin: 0.2em;color: black;border-radius: 0.25em;background-color: #f0f8ff;}#sk-container-id-3 input.sk-toggleable__control:checked~div.sk-toggleable__content {max-height: 200px;max-width: 100%;overflow: auto;}#sk-container-id-3 input.sk-toggleable__control:checked~label.sk-toggleable__label-arrow:before {content: \"▾\";}#sk-container-id-3 div.sk-estimator input.sk-toggleable__control:checked~label.sk-toggleable__label {background-color: #d4ebff;}#sk-container-id-3 div.sk-label input.sk-toggleable__control:checked~label.sk-toggleable__label {background-color: #d4ebff;}#sk-container-id-3 input.sk-hidden--visually {border: 0;clip: rect(1px 1px 1px 1px);clip: rect(1px, 1px, 1px, 1px);height: 1px;margin: -1px;overflow: hidden;padding: 0;position: absolute;width: 1px;}#sk-container-id-3 div.sk-estimator {font-family: monospace;background-color: #f0f8ff;border: 1px dotted black;border-radius: 0.25em;box-sizing: border-box;margin-bottom: 0.5em;}#sk-container-id-3 div.sk-estimator:hover {background-color: #d4ebff;}#sk-container-id-3 div.sk-parallel-item::after {content: \"\";width: 100%;border-bottom: 1px solid gray;flex-grow: 1;}#sk-container-id-3 div.sk-label:hover label.sk-toggleable__label {background-color: #d4ebff;}#sk-container-id-3 div.sk-serial::before {content: \"\";position: absolute;border-left: 1px solid gray;box-sizing: border-box;top: 0;bottom: 0;left: 50%;z-index: 0;}#sk-container-id-3 div.sk-serial {display: flex;flex-direction: column;align-items: center;background-color: white;padding-right: 0.2em;padding-left: 0.2em;position: relative;}#sk-container-id-3 div.sk-item {position: relative;z-index: 1;}#sk-container-id-3 div.sk-parallel {display: flex;align-items: stretch;justify-content: center;background-color: white;position: relative;}#sk-container-id-3 div.sk-item::before, #sk-container-id-3 div.sk-parallel-item::before {content: \"\";position: absolute;border-left: 1px solid gray;box-sizing: border-box;top: 0;bottom: 0;left: 50%;z-index: -1;}#sk-container-id-3 div.sk-parallel-item {display: flex;flex-direction: column;z-index: 1;position: relative;background-color: white;}#sk-container-id-3 div.sk-parallel-item:first-child::after {align-self: flex-end;width: 50%;}#sk-container-id-3 div.sk-parallel-item:last-child::after {align-self: flex-start;width: 50%;}#sk-container-id-3 div.sk-parallel-item:only-child::after {width: 0;}#sk-container-id-3 div.sk-dashed-wrapped {border: 1px dashed gray;margin: 0 0.4em 0.5em 0.4em;box-sizing: border-box;padding-bottom: 0.4em;background-color: white;}#sk-container-id-3 div.sk-label label {font-family: monospace;font-weight: bold;display: inline-block;line-height: 1.2em;}#sk-container-id-3 div.sk-label-container {text-align: center;}#sk-container-id-3 div.sk-container {/* jupyter's `normalize.less` sets `[hidden] { display: none; }` but bootstrap.min.css set `[hidden] { display: none !important; }` so we also need the `!important` here to be able to override the default hidden behavior on the sphinx rendered scikit-learn.org. See: https://github.com/scikit-learn/scikit-learn/issues/21755 */display: inline-block !important;position: relative;}#sk-container-id-3 div.sk-text-repr-fallback {display: none;}</style><div id=\"sk-container-id-3\" class=\"sk-top-container\"><div class=\"sk-text-repr-fallback\"><pre>RandomForestClassifier(random_state=1107)</pre><b>In a Jupyter environment, please rerun this cell to show the HTML representation or trust the notebook. <br />On GitHub, the HTML representation is unable to render, please try loading this page with nbviewer.org.</b></div><div class=\"sk-container\" hidden><div class=\"sk-item\"><div class=\"sk-estimator sk-toggleable\"><input class=\"sk-toggleable__control sk-hidden--visually\" id=\"sk-estimator-id-5\" type=\"checkbox\" checked><label for=\"sk-estimator-id-5\" class=\"sk-toggleable__label sk-toggleable__label-arrow\">RandomForestClassifier</label><div class=\"sk-toggleable__content\"><pre>RandomForestClassifier(random_state=1107)</pre></div></div></div></div></div>"
                        ],
                        "text/plain": [
                            "RandomForestClassifier(random_state=1107)"
                        ]
                    },
                    "execution_count": 57,
                    "metadata": {},
                    "output_type": "execute_result"
                }
            ],
            "source": [
                "classif.fit(X_train,y_train)"
            ]
        },
        {
            "cell_type": "code",
            "execution_count": 20,
            "metadata": {},
            "outputs": [],
            "source": [
                "from sklearn.metrics import classification_report"
            ]
        },
        {
            "cell_type": "code",
            "execution_count": 58,
            "metadata": {},
            "outputs": [],
            "source": [
                "y_pred=classif.predict(X_test)"
            ]
        },
        {
            "cell_type": "code",
            "execution_count": 70,
            "metadata": {},
            "outputs": [
                {
                    "name": "stdout",
                    "output_type": "stream",
                    "text": [
                        "Classification report- First Model\n",
                        "              precision    recall  f1-score   support\n",
                        "\n",
                        "           0       0.84      0.90      0.87       141\n",
                        "           1       0.81      0.71      0.75        82\n",
                        "\n",
                        "    accuracy                           0.83       223\n",
                        "   macro avg       0.82      0.80      0.81       223\n",
                        "weighted avg       0.83      0.83      0.83       223\n",
                        "\n"
                    ]
                }
            ],
            "source": [
                "print('Classification report- First Model')\n",
                "print(classification_report(y_test,y_pred))"
            ]
        },
        {
            "cell_type": "markdown",
            "metadata": {},
            "source": [
                "Como era de esperar, el ajuste para la clase predominante (0 No sobrevive) es mejor, no dista tanto del ajuste al predecir la clase opuesta y continúa siendo un buen ajuste para cualquier indicador que se considere, superando el 70%."
            ]
        },
        {
            "cell_type": "markdown",
            "metadata": {},
            "source": [
                "En pos de mejorar el modelo, se investigan distintos hiperparámetros."
            ]
        },
        {
            "cell_type": "code",
            "execution_count": 23,
            "metadata": {},
            "outputs": [],
            "source": [
                "from sklearn.model_selection import RandomizedSearchCV\n"
            ]
        },
        {
            "cell_type": "code",
            "execution_count": 30,
            "metadata": {},
            "outputs": [
                {
                    "name": "stdout",
                    "output_type": "stream",
                    "text": [
                        "{'n_estimators': [200, 650, 1100, 1550, 2000], 'max_depth': [10, 35, 60, 85, 110, None], 'min_samples_split': [2, 5, 10], 'min_samples_leaf': [1, 2, 4], 'bootstrap': [True, False], 'criterion': ['gini', 'entropy'], 'class_weight': ['balanced', None]}\n"
                    ]
                }
            ],
            "source": [
                "\n",
                "# Number of trees in random forest\n",
                "n_estimators = [int(x) for x in np.linspace(start = 200, stop = 2000, num = 5)]\n",
                "# Number of features to consider at every split\n",
                "max_features = ['auto', 'sqrt']\n",
                "# Maximum number of levels in tree\n",
                "max_depth = [int(x) for x in np.linspace(10, 110, num = 5)]\n",
                "max_depth.append(None)\n",
                "# Minimum number of samples required to split a node\n",
                "min_samples_split = [2, 5, 10]\n",
                "# Minimum number of samples required at each leaf node\n",
                "min_samples_leaf = [1, 2, 4]\n",
                "# Method of selecting samples for training each tree\n",
                "bootstrap = [True, False]\n",
                "#Criterion for measure the quality of a split\n",
                "criterion=['gini','entropy']\n",
                "# class weight for unbalanced samples\n",
                "weight=['balanced', None]\n",
                "# Create the random grid\n",
                "random_grid = {'n_estimators': n_estimators,\n",
                "#'max_features': max_features, # Son muy pocas variables por lo cual no vale la pena aplicarlo\n",
                "'max_depth': max_depth,\n",
                "'min_samples_split': min_samples_split,\n",
                "'min_samples_leaf': min_samples_leaf,\n",
                "'bootstrap': bootstrap,\n",
                "'criterion':criterion,\n",
                "'class_weight':weight}\n",
                "print(random_grid)\n"
            ]
        },
        {
            "cell_type": "code",
            "execution_count": 61,
            "metadata": {},
            "outputs": [],
            "source": [
                "classif_grid=RandomForestClassifier(random_state=1107)\n",
                "classif_grid_random=RandomizedSearchCV(estimator=classif_grid,n_iter=100,cv=5,random_state=1107,param_distributions=random_grid)"
            ]
        },
        {
            "cell_type": "code",
            "execution_count": 62,
            "metadata": {},
            "outputs": [
                {
                    "data": {
                        "text/html": [
                            "<style>#sk-container-id-4 {color: black;background-color: white;}#sk-container-id-4 pre{padding: 0;}#sk-container-id-4 div.sk-toggleable {background-color: white;}#sk-container-id-4 label.sk-toggleable__label {cursor: pointer;display: block;width: 100%;margin-bottom: 0;padding: 0.3em;box-sizing: border-box;text-align: center;}#sk-container-id-4 label.sk-toggleable__label-arrow:before {content: \"▸\";float: left;margin-right: 0.25em;color: #696969;}#sk-container-id-4 label.sk-toggleable__label-arrow:hover:before {color: black;}#sk-container-id-4 div.sk-estimator:hover label.sk-toggleable__label-arrow:before {color: black;}#sk-container-id-4 div.sk-toggleable__content {max-height: 0;max-width: 0;overflow: hidden;text-align: left;background-color: #f0f8ff;}#sk-container-id-4 div.sk-toggleable__content pre {margin: 0.2em;color: black;border-radius: 0.25em;background-color: #f0f8ff;}#sk-container-id-4 input.sk-toggleable__control:checked~div.sk-toggleable__content {max-height: 200px;max-width: 100%;overflow: auto;}#sk-container-id-4 input.sk-toggleable__control:checked~label.sk-toggleable__label-arrow:before {content: \"▾\";}#sk-container-id-4 div.sk-estimator input.sk-toggleable__control:checked~label.sk-toggleable__label {background-color: #d4ebff;}#sk-container-id-4 div.sk-label input.sk-toggleable__control:checked~label.sk-toggleable__label {background-color: #d4ebff;}#sk-container-id-4 input.sk-hidden--visually {border: 0;clip: rect(1px 1px 1px 1px);clip: rect(1px, 1px, 1px, 1px);height: 1px;margin: -1px;overflow: hidden;padding: 0;position: absolute;width: 1px;}#sk-container-id-4 div.sk-estimator {font-family: monospace;background-color: #f0f8ff;border: 1px dotted black;border-radius: 0.25em;box-sizing: border-box;margin-bottom: 0.5em;}#sk-container-id-4 div.sk-estimator:hover {background-color: #d4ebff;}#sk-container-id-4 div.sk-parallel-item::after {content: \"\";width: 100%;border-bottom: 1px solid gray;flex-grow: 1;}#sk-container-id-4 div.sk-label:hover label.sk-toggleable__label {background-color: #d4ebff;}#sk-container-id-4 div.sk-serial::before {content: \"\";position: absolute;border-left: 1px solid gray;box-sizing: border-box;top: 0;bottom: 0;left: 50%;z-index: 0;}#sk-container-id-4 div.sk-serial {display: flex;flex-direction: column;align-items: center;background-color: white;padding-right: 0.2em;padding-left: 0.2em;position: relative;}#sk-container-id-4 div.sk-item {position: relative;z-index: 1;}#sk-container-id-4 div.sk-parallel {display: flex;align-items: stretch;justify-content: center;background-color: white;position: relative;}#sk-container-id-4 div.sk-item::before, #sk-container-id-4 div.sk-parallel-item::before {content: \"\";position: absolute;border-left: 1px solid gray;box-sizing: border-box;top: 0;bottom: 0;left: 50%;z-index: -1;}#sk-container-id-4 div.sk-parallel-item {display: flex;flex-direction: column;z-index: 1;position: relative;background-color: white;}#sk-container-id-4 div.sk-parallel-item:first-child::after {align-self: flex-end;width: 50%;}#sk-container-id-4 div.sk-parallel-item:last-child::after {align-self: flex-start;width: 50%;}#sk-container-id-4 div.sk-parallel-item:only-child::after {width: 0;}#sk-container-id-4 div.sk-dashed-wrapped {border: 1px dashed gray;margin: 0 0.4em 0.5em 0.4em;box-sizing: border-box;padding-bottom: 0.4em;background-color: white;}#sk-container-id-4 div.sk-label label {font-family: monospace;font-weight: bold;display: inline-block;line-height: 1.2em;}#sk-container-id-4 div.sk-label-container {text-align: center;}#sk-container-id-4 div.sk-container {/* jupyter's `normalize.less` sets `[hidden] { display: none; }` but bootstrap.min.css set `[hidden] { display: none !important; }` so we also need the `!important` here to be able to override the default hidden behavior on the sphinx rendered scikit-learn.org. See: https://github.com/scikit-learn/scikit-learn/issues/21755 */display: inline-block !important;position: relative;}#sk-container-id-4 div.sk-text-repr-fallback {display: none;}</style><div id=\"sk-container-id-4\" class=\"sk-top-container\"><div class=\"sk-text-repr-fallback\"><pre>RandomizedSearchCV(cv=5, estimator=RandomForestClassifier(random_state=1107),\n",
                            "                   n_iter=100,\n",
                            "                   param_distributions={&#x27;bootstrap&#x27;: [True, False],\n",
                            "                                        &#x27;class_weight&#x27;: [&#x27;balanced&#x27;, None],\n",
                            "                                        &#x27;criterion&#x27;: [&#x27;gini&#x27;, &#x27;entropy&#x27;],\n",
                            "                                        &#x27;max_depth&#x27;: [10, 35, 60, 85, 110,\n",
                            "                                                      None],\n",
                            "                                        &#x27;min_samples_leaf&#x27;: [1, 2, 4],\n",
                            "                                        &#x27;min_samples_split&#x27;: [2, 5, 10],\n",
                            "                                        &#x27;n_estimators&#x27;: [200, 650, 1100, 1550,\n",
                            "                                                         2000]},\n",
                            "                   random_state=1107)</pre><b>In a Jupyter environment, please rerun this cell to show the HTML representation or trust the notebook. <br />On GitHub, the HTML representation is unable to render, please try loading this page with nbviewer.org.</b></div><div class=\"sk-container\" hidden><div class=\"sk-item sk-dashed-wrapped\"><div class=\"sk-label-container\"><div class=\"sk-label sk-toggleable\"><input class=\"sk-toggleable__control sk-hidden--visually\" id=\"sk-estimator-id-6\" type=\"checkbox\" ><label for=\"sk-estimator-id-6\" class=\"sk-toggleable__label sk-toggleable__label-arrow\">RandomizedSearchCV</label><div class=\"sk-toggleable__content\"><pre>RandomizedSearchCV(cv=5, estimator=RandomForestClassifier(random_state=1107),\n",
                            "                   n_iter=100,\n",
                            "                   param_distributions={&#x27;bootstrap&#x27;: [True, False],\n",
                            "                                        &#x27;class_weight&#x27;: [&#x27;balanced&#x27;, None],\n",
                            "                                        &#x27;criterion&#x27;: [&#x27;gini&#x27;, &#x27;entropy&#x27;],\n",
                            "                                        &#x27;max_depth&#x27;: [10, 35, 60, 85, 110,\n",
                            "                                                      None],\n",
                            "                                        &#x27;min_samples_leaf&#x27;: [1, 2, 4],\n",
                            "                                        &#x27;min_samples_split&#x27;: [2, 5, 10],\n",
                            "                                        &#x27;n_estimators&#x27;: [200, 650, 1100, 1550,\n",
                            "                                                         2000]},\n",
                            "                   random_state=1107)</pre></div></div></div><div class=\"sk-parallel\"><div class=\"sk-parallel-item\"><div class=\"sk-item\"><div class=\"sk-label-container\"><div class=\"sk-label sk-toggleable\"><input class=\"sk-toggleable__control sk-hidden--visually\" id=\"sk-estimator-id-7\" type=\"checkbox\" ><label for=\"sk-estimator-id-7\" class=\"sk-toggleable__label sk-toggleable__label-arrow\">estimator: RandomForestClassifier</label><div class=\"sk-toggleable__content\"><pre>RandomForestClassifier(random_state=1107)</pre></div></div></div><div class=\"sk-serial\"><div class=\"sk-item\"><div class=\"sk-estimator sk-toggleable\"><input class=\"sk-toggleable__control sk-hidden--visually\" id=\"sk-estimator-id-8\" type=\"checkbox\" ><label for=\"sk-estimator-id-8\" class=\"sk-toggleable__label sk-toggleable__label-arrow\">RandomForestClassifier</label><div class=\"sk-toggleable__content\"><pre>RandomForestClassifier(random_state=1107)</pre></div></div></div></div></div></div></div></div></div></div>"
                        ],
                        "text/plain": [
                            "RandomizedSearchCV(cv=5, estimator=RandomForestClassifier(random_state=1107),\n",
                            "                   n_iter=100,\n",
                            "                   param_distributions={'bootstrap': [True, False],\n",
                            "                                        'class_weight': ['balanced', None],\n",
                            "                                        'criterion': ['gini', 'entropy'],\n",
                            "                                        'max_depth': [10, 35, 60, 85, 110,\n",
                            "                                                      None],\n",
                            "                                        'min_samples_leaf': [1, 2, 4],\n",
                            "                                        'min_samples_split': [2, 5, 10],\n",
                            "                                        'n_estimators': [200, 650, 1100, 1550,\n",
                            "                                                         2000]},\n",
                            "                   random_state=1107)"
                        ]
                    },
                    "execution_count": 62,
                    "metadata": {},
                    "output_type": "execute_result"
                }
            ],
            "source": [
                "classif_grid_random.fit(X_train,y_train)"
            ]
        },
        {
            "cell_type": "code",
            "execution_count": 64,
            "metadata": {},
            "outputs": [
                {
                    "name": "stdout",
                    "output_type": "stream",
                    "text": [
                        "The best model has the parameters: {'n_estimators': 1550, 'min_samples_split': 2, 'min_samples_leaf': 2, 'max_depth': 10, 'criterion': 'gini', 'class_weight': None, 'bootstrap': True}\n"
                    ]
                }
            ],
            "source": [
                "print('The best model has the parameters:',classif_grid_random.best_params_)"
            ]
        },
        {
            "cell_type": "code",
            "execution_count": 65,
            "metadata": {},
            "outputs": [],
            "source": [
                "best_clas=RandomForestClassifier(n_estimators= 1550,min_samples_split= 2,min_samples_leaf= 2,max_depth= 10,criterion= 'gini',\n",
                " bootstrap= True,class_weight=None)"
            ]
        },
        {
            "cell_type": "code",
            "execution_count": 67,
            "metadata": {},
            "outputs": [
                {
                    "data": {
                        "text/html": [
                            "<style>#sk-container-id-5 {color: black;background-color: white;}#sk-container-id-5 pre{padding: 0;}#sk-container-id-5 div.sk-toggleable {background-color: white;}#sk-container-id-5 label.sk-toggleable__label {cursor: pointer;display: block;width: 100%;margin-bottom: 0;padding: 0.3em;box-sizing: border-box;text-align: center;}#sk-container-id-5 label.sk-toggleable__label-arrow:before {content: \"▸\";float: left;margin-right: 0.25em;color: #696969;}#sk-container-id-5 label.sk-toggleable__label-arrow:hover:before {color: black;}#sk-container-id-5 div.sk-estimator:hover label.sk-toggleable__label-arrow:before {color: black;}#sk-container-id-5 div.sk-toggleable__content {max-height: 0;max-width: 0;overflow: hidden;text-align: left;background-color: #f0f8ff;}#sk-container-id-5 div.sk-toggleable__content pre {margin: 0.2em;color: black;border-radius: 0.25em;background-color: #f0f8ff;}#sk-container-id-5 input.sk-toggleable__control:checked~div.sk-toggleable__content {max-height: 200px;max-width: 100%;overflow: auto;}#sk-container-id-5 input.sk-toggleable__control:checked~label.sk-toggleable__label-arrow:before {content: \"▾\";}#sk-container-id-5 div.sk-estimator input.sk-toggleable__control:checked~label.sk-toggleable__label {background-color: #d4ebff;}#sk-container-id-5 div.sk-label input.sk-toggleable__control:checked~label.sk-toggleable__label {background-color: #d4ebff;}#sk-container-id-5 input.sk-hidden--visually {border: 0;clip: rect(1px 1px 1px 1px);clip: rect(1px, 1px, 1px, 1px);height: 1px;margin: -1px;overflow: hidden;padding: 0;position: absolute;width: 1px;}#sk-container-id-5 div.sk-estimator {font-family: monospace;background-color: #f0f8ff;border: 1px dotted black;border-radius: 0.25em;box-sizing: border-box;margin-bottom: 0.5em;}#sk-container-id-5 div.sk-estimator:hover {background-color: #d4ebff;}#sk-container-id-5 div.sk-parallel-item::after {content: \"\";width: 100%;border-bottom: 1px solid gray;flex-grow: 1;}#sk-container-id-5 div.sk-label:hover label.sk-toggleable__label {background-color: #d4ebff;}#sk-container-id-5 div.sk-serial::before {content: \"\";position: absolute;border-left: 1px solid gray;box-sizing: border-box;top: 0;bottom: 0;left: 50%;z-index: 0;}#sk-container-id-5 div.sk-serial {display: flex;flex-direction: column;align-items: center;background-color: white;padding-right: 0.2em;padding-left: 0.2em;position: relative;}#sk-container-id-5 div.sk-item {position: relative;z-index: 1;}#sk-container-id-5 div.sk-parallel {display: flex;align-items: stretch;justify-content: center;background-color: white;position: relative;}#sk-container-id-5 div.sk-item::before, #sk-container-id-5 div.sk-parallel-item::before {content: \"\";position: absolute;border-left: 1px solid gray;box-sizing: border-box;top: 0;bottom: 0;left: 50%;z-index: -1;}#sk-container-id-5 div.sk-parallel-item {display: flex;flex-direction: column;z-index: 1;position: relative;background-color: white;}#sk-container-id-5 div.sk-parallel-item:first-child::after {align-self: flex-end;width: 50%;}#sk-container-id-5 div.sk-parallel-item:last-child::after {align-self: flex-start;width: 50%;}#sk-container-id-5 div.sk-parallel-item:only-child::after {width: 0;}#sk-container-id-5 div.sk-dashed-wrapped {border: 1px dashed gray;margin: 0 0.4em 0.5em 0.4em;box-sizing: border-box;padding-bottom: 0.4em;background-color: white;}#sk-container-id-5 div.sk-label label {font-family: monospace;font-weight: bold;display: inline-block;line-height: 1.2em;}#sk-container-id-5 div.sk-label-container {text-align: center;}#sk-container-id-5 div.sk-container {/* jupyter's `normalize.less` sets `[hidden] { display: none; }` but bootstrap.min.css set `[hidden] { display: none !important; }` so we also need the `!important` here to be able to override the default hidden behavior on the sphinx rendered scikit-learn.org. See: https://github.com/scikit-learn/scikit-learn/issues/21755 */display: inline-block !important;position: relative;}#sk-container-id-5 div.sk-text-repr-fallback {display: none;}</style><div id=\"sk-container-id-5\" class=\"sk-top-container\"><div class=\"sk-text-repr-fallback\"><pre>RandomForestClassifier(max_depth=10, min_samples_leaf=2, n_estimators=1550)</pre><b>In a Jupyter environment, please rerun this cell to show the HTML representation or trust the notebook. <br />On GitHub, the HTML representation is unable to render, please try loading this page with nbviewer.org.</b></div><div class=\"sk-container\" hidden><div class=\"sk-item\"><div class=\"sk-estimator sk-toggleable\"><input class=\"sk-toggleable__control sk-hidden--visually\" id=\"sk-estimator-id-9\" type=\"checkbox\" checked><label for=\"sk-estimator-id-9\" class=\"sk-toggleable__label sk-toggleable__label-arrow\">RandomForestClassifier</label><div class=\"sk-toggleable__content\"><pre>RandomForestClassifier(max_depth=10, min_samples_leaf=2, n_estimators=1550)</pre></div></div></div></div></div>"
                        ],
                        "text/plain": [
                            "RandomForestClassifier(max_depth=10, min_samples_leaf=2, n_estimators=1550)"
                        ]
                    },
                    "execution_count": 67,
                    "metadata": {},
                    "output_type": "execute_result"
                }
            ],
            "source": [
                "best_clas.fit(X_train,y_train)"
            ]
        },
        {
            "cell_type": "code",
            "execution_count": 68,
            "metadata": {},
            "outputs": [],
            "source": [
                "y_pred_best=best_clas.predict(X_test)"
            ]
        },
        {
            "cell_type": "code",
            "execution_count": 71,
            "metadata": {},
            "outputs": [
                {
                    "name": "stdout",
                    "output_type": "stream",
                    "text": [
                        "Classification report- Best Model\n",
                        "              precision    recall  f1-score   support\n",
                        "\n",
                        "           0       0.85      0.93      0.89       141\n",
                        "           1       0.86      0.72      0.78        82\n",
                        "\n",
                        "    accuracy                           0.85       223\n",
                        "   macro avg       0.85      0.82      0.83       223\n",
                        "weighted avg       0.85      0.85      0.85       223\n",
                        "\n"
                    ]
                }
            ],
            "source": [
                "print('Classification report- Best Model')\n",
                "print(classification_report(y_test,y_pred_best))"
            ]
        },
        {
            "cell_type": "markdown",
            "metadata": {},
            "source": [
                "Se observa una leve mejora en la predicción de cada clase. A continuación se observa la importancia de cada variable para clasificar según el indicador de impureza."
            ]
        },
        {
            "cell_type": "code",
            "execution_count": 82,
            "metadata": {},
            "outputs": [
                {
                    "data": {
                        "image/png": "[encoded data removed]",
                        "text/plain": [
                            "<Figure size 432x288 with 1 Axes>"
                        ]
                    },
                    "metadata": {
                        "needs_background": "light"
                    },
                    "output_type": "display_data"
                }
            ],
            "source": [
                "importances = best_clas.feature_importances_\n",
                "std = np.std([tree.feature_importances_ for tree in best_clas.estimators_], axis=0)\n",
                "#feature_names = [f\"feature {i}\" for i in range(X.shape[1])]\n",
                "feature_names = X.columns\n",
                "forest_importances = pd.Series(importances, index=feature_names)\n",
                "\n",
                "fig, ax = plt.subplots()\n",
                "forest_importances.plot.bar(yerr=std, ax=ax)\n",
                "ax.set_title(\"Feature importances using MDI\")\n",
                "ax.set_ylabel(\"Mean decrease in impurity\")\n",
                "fig.tight_layout()"
            ]
        },
        {
            "cell_type": "markdown",
            "metadata": {},
            "source": [
                "Las variables Sex, Fare  y Age son las más importantes para predecir si un pasajero sobrevivirá o no. Puede estar reflejando la clase social, la ubicación en el crucero, así como el orden en el que son evacuados."
            ]
        },
        {
            "cell_type": "code",
            "execution_count": null,
            "metadata": {},
            "outputs": [],
            "source": [
                "import pickle\n",
                "filename = '/workspace/RandomForest/models/finalized_model.sav'\n",
                "pickle.dump(best_clas, open(filename, 'wb'))"
            ]
        },
        {
            "cell_type": "markdown",
            "metadata": {},
            "source": [
                "Referencias:\n",
                "\n",
                "https://scikit-learn.org/stable/auto_examples/ensemble/plot_forest_importances.html\n",
                "https://scikit-learn.org/stable/auto_examples/inspection/plot_permutation_importance.html#:~:text=test%20accuracy%3A%200.814-,Tree's%20Feature%20Importance%20from%20Mean%20Decrease%20in%20Impurity%20(MDI),of%20the%20most%20important%20features!"
            ]
        }
    ],
    "metadata": {
        "kernelspec": {
            "display_name": "Python 3.8.13 64-bit ('3.8.13')",
            "language": "python",
            "name": "python3"
        },
        "language_info": {
            "codemirror_mode": {
                "name": "ipython",
                "version": 3
            },
            "file_extension": ".py",
            "mimetype": "text/x-python",
            "name": "python",
            "nbconvert_exporter": "python",
            "pygments_lexer": "ipython3",
            "version": "3.8.13"
        },
        "orig_nbformat": 4,
        "vscode": {
            "interpreter": {
                "hash": "110cc1dee26208153f2972f08a2ad52b6a56238dc66d48e87fb757ef2996db56"
            }
        }
    },
    "nbformat": 4,
    "nbformat_minor": 2
}
